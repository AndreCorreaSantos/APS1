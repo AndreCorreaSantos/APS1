{
 "cells": [
  {
   "cell_type": "code",
   "execution_count": 40,
   "id": "07c8a7ff-b532-4035-9fd9-9e417425c7c7",
   "metadata": {
    "execution": {
     "iopub.execute_input": "2023-08-21T14:38:41.309120Z",
     "iopub.status.busy": "2023-08-21T14:38:41.308568Z",
     "iopub.status.idle": "2023-08-21T14:38:41.616590Z",
     "shell.execute_reply": "2023-08-21T14:38:41.615553Z",
     "shell.execute_reply.started": "2023-08-21T14:38:41.309092Z"
    }
   },
   "outputs": [],
   "source": [
    "import graph_tool_extras as gte\n",
    "import netpixi\n",
    "from graph_tool import draw\n",
    "PATH = \"helminths.csv\"\n",
    "i = 0\n",
    "erros = 0\n",
    "linhas = []\n",
    "with open(PATH, encoding=\"ISO-8859-1\") as file:\n",
    "    cabecalho = file.readline()\n",
    "    \n",
    "    while True:\n",
    "        linha = file.readline()\n",
    "        if linha == \"\":\n",
    "            break\n",
    "        linhas.append(linha)\n"
   ]
  },
  {
   "cell_type": "code",
   "execution_count": 41,
   "id": "287c7f9c-1f6d-47cc-81db-d04f320f281c",
   "metadata": {
    "execution": {
     "iopub.execute_input": "2023-08-21T14:38:41.618943Z",
     "iopub.status.busy": "2023-08-21T14:38:41.618252Z",
     "iopub.status.idle": "2023-08-21T14:38:41.623998Z",
     "shell.execute_reply": "2023-08-21T14:38:41.622866Z",
     "shell.execute_reply.started": "2023-08-21T14:38:41.618919Z"
    }
   },
   "outputs": [
    {
     "name": "stdout",
     "output_type": "stream",
     "text": [
      "\"\",\"Host\",\"Parasite\",\"ParasiteFull\",\"group\",\"locality\",\"hostgroup\"\n",
      "\n"
     ]
    }
   ],
   "source": [
    "print(cabecalho)"
   ]
  },
  {
   "cell_type": "code",
   "execution_count": 42,
   "id": "891be66e-4803-42ad-b1a4-bfcd213cd402",
   "metadata": {
    "execution": {
     "iopub.execute_input": "2023-08-21T14:38:41.625732Z",
     "iopub.status.busy": "2023-08-21T14:38:41.625209Z",
     "iopub.status.idle": "2023-08-21T14:38:41.862381Z",
     "shell.execute_reply": "2023-08-21T14:38:41.861436Z",
     "shell.execute_reply.started": "2023-08-21T14:38:41.625710Z"
    }
   },
   "outputs": [],
   "source": [
    "l_p = []\n",
    "for i in range(0,len(linhas)):\n",
    "    linha = linhas[i].split(',')\n",
    "    l_p.append([linha[1],linha[2]])\n"
   ]
  },
  {
   "cell_type": "code",
   "execution_count": 43,
   "id": "efb49bfe-8750-4bb6-b5da-fcba26245782",
   "metadata": {
    "execution": {
     "iopub.execute_input": "2023-08-21T14:38:41.865529Z",
     "iopub.status.busy": "2023-08-21T14:38:41.864881Z",
     "iopub.status.idle": "2023-08-21T14:38:43.988622Z",
     "shell.execute_reply": "2023-08-21T14:38:43.987670Z",
     "shell.execute_reply.started": "2023-08-21T14:38:41.865508Z"
    }
   },
   "outputs": [],
   "source": [
    "import graph_tool_extras as gte\n",
    "\n",
    "g = gte.Graph(directed=False)\n",
    "\n",
    " \n",
    "verts = {}\n",
    "\n",
    " \n",
    "for i in range(0, len(l_p)):\n",
    "\n",
    "    pre = l_p[i][0]\n",
    "    post = l_p[i][1]\n",
    "\n",
    "     \n",
    "    if pre not in verts:\n",
    "        verts[pre] = True\n",
    "        g.add_vertex_by_id(pre)\n",
    "\n",
    "     \n",
    "    if post not in verts:\n",
    "        verts[post] = True\n",
    "        g.add_vertex_by_id(post)\n",
    "\n",
    "    g.add_edge_by_ids(pre, post)\n"
   ]
  },
  {
   "cell_type": "code",
   "execution_count": 44,
   "id": "1f33d79e-7c57-417f-8621-4cb8e939d0de",
   "metadata": {
    "execution": {
     "iopub.execute_input": "2023-08-21T14:38:43.990302Z",
     "iopub.status.busy": "2023-08-21T14:38:43.989732Z",
     "iopub.status.idle": "2023-08-21T14:38:44.124560Z",
     "shell.execute_reply": "2023-08-21T14:38:44.123623Z",
     "shell.execute_reply.started": "2023-08-21T14:38:43.990279Z"
    }
   },
   "outputs": [
    {
     "data": {
      "text/plain": [
       "<Graph object, undirected, with 26195 vertices and 140432 edges, 2 internal vertex properties, at 0x7fd618388390>"
      ]
     },
     "execution_count": 44,
     "metadata": {},
     "output_type": "execute_result"
    }
   ],
   "source": [
    "gte.clean(g)"
   ]
  },
  {
   "cell_type": "code",
   "execution_count": 45,
   "id": "a811aaad-8bff-431a-8765-451325d1b842",
   "metadata": {
    "execution": {
     "iopub.execute_input": "2023-08-21T14:38:44.126156Z",
     "iopub.status.busy": "2023-08-21T14:38:44.125723Z",
     "iopub.status.idle": "2023-08-21T14:40:38.530898Z",
     "shell.execute_reply": "2023-08-21T14:40:38.530032Z",
     "shell.execute_reply.started": "2023-08-21T14:38:44.126135Z"
    }
   },
   "outputs": [
    {
     "data": {
      "text/plain": [
       "<Graph object, undirected, with 26195 vertices and 140432 edges, 4 internal vertex properties, at 0x7fd617191090>"
      ]
     },
     "execution_count": 45,
     "metadata": {},
     "output_type": "execute_result"
    }
   ],
   "source": [
    "layout = draw.sfdp_layout(g)\n",
    "gte.move(g, layout)\n",
    "gte.clean(g)\n"
   ]
  },
  {
   "cell_type": "code",
   "execution_count": 46,
   "id": "4e3c631f-7c1e-40bf-92f5-8ab3be90b730",
   "metadata": {
    "execution": {
     "iopub.execute_input": "2023-08-21T14:40:38.532072Z",
     "iopub.status.busy": "2023-08-21T14:40:38.531851Z",
     "iopub.status.idle": "2023-08-21T14:40:47.427215Z",
     "shell.execute_reply": "2023-08-21T14:40:47.426069Z",
     "shell.execute_reply.started": "2023-08-21T14:40:38.532052Z"
    }
   },
   "outputs": [],
   "source": [
    "gte.save(g, 'parasita.net.gz')\n"
   ]
  },
  {
   "cell_type": "code",
   "execution_count": 47,
   "id": "b11740a1-d4cb-443c-a754-67489d23f259",
   "metadata": {
    "execution": {
     "iopub.execute_input": "2023-08-21T14:40:47.429179Z",
     "iopub.status.busy": "2023-08-21T14:40:47.428540Z",
     "iopub.status.idle": "2023-08-21T14:40:47.437175Z",
     "shell.execute_reply": "2023-08-21T14:40:47.435890Z",
     "shell.execute_reply.started": "2023-08-21T14:40:47.429154Z"
    },
    "scrolled": true
   },
   "outputs": [
    {
     "data": {
      "text/html": [
       "\n",
       "        <div id=\"kfruxGpDVzESAX4ijcPRi8\"></div>\n",
       "        <script>netpixi.render('kfruxGpDVzESAX4ijcPRi8', '/static/__shared__/parasita.net.gz', 1.7777777777777777, true, false, false, true);</script>\n",
       "    "
      ],
      "text/plain": [
       "<IPython.core.display.HTML object>"
      ]
     },
     "metadata": {},
     "output_type": "display_data"
    }
   ],
   "source": [
    "\n",
    "r = netpixi.render(\"parasita.net.gz\")\n"
   ]
  },
  {
   "cell_type": "code",
   "execution_count": 48,
   "id": "e468c5db-6524-4d23-b996-3bb98bc9c17a",
   "metadata": {
    "execution": {
     "iopub.execute_input": "2023-08-21T14:40:47.439498Z",
     "iopub.status.busy": "2023-08-21T14:40:47.438717Z",
     "iopub.status.idle": "2023-08-21T14:40:47.446257Z",
     "shell.execute_reply": "2023-08-21T14:40:47.445330Z",
     "shell.execute_reply.started": "2023-08-21T14:40:47.439462Z"
    }
   },
   "outputs": [
    {
     "data": {
      "text/html": [
       "\n",
       "        <div id=\"dFcmM5Gvq7rQGDNqrzDYda\"></div>\n",
       "        <script>netpixi.call('dFcmM5Gvq7rQGDNqrzDYda', 'kfruxGpDVzESAX4ijcPRi8', 'changeGraph', 'eyJ0eXBlIjogInNldHRpbmdzIiwgInByb3BzIjogeyJ2ZXJ0ZXgiOiB7InNpemUiOiAxLCAiY29sb3IiOiAxNjc3Njk2MCwgImJ3aWR0aCI6IDIsICJiY29sb3IiOiAzMDQ2NH19fQo=');</script>\n",
       "    "
      ],
      "text/plain": [
       "<IPython.core.display.HTML object>"
      ]
     },
     "metadata": {},
     "output_type": "display_data"
    }
   ],
   "source": [
    "r.vertex_default(\n",
    "    size=1,         \n",
    "    color=0xffff00, \n",
    "    bwidth=2,        \n",
    "    bcolor=0x007700, \n",
    ")"
   ]
  }
 ],
 "metadata": {
  "kernelspec": {
   "display_name": "Python 3 (ipykernel)",
   "language": "python",
   "name": "python3"
  },
  "language_info": {
   "codemirror_mode": {
    "name": "ipython",
    "version": 3
   },
   "file_extension": ".py",
   "mimetype": "text/x-python",
   "name": "python",
   "nbconvert_exporter": "python",
   "pygments_lexer": "ipython3",
   "version": "3.11.4"
  }
 },
 "nbformat": 4,
 "nbformat_minor": 5
}
