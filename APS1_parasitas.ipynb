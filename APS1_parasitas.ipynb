{
 "cells": [
  {
   "cell_type": "markdown",
   "id": "2d38c7a2-4abb-480b-94c4-2c7c4dead959",
   "metadata": {},
   "source": [
    "## APS 1 - REDES SOCIAIS"
   ]
  },
  {
   "cell_type": "markdown",
   "id": "4ffaeb71-acbb-4dcb-88e4-f33abc0e4125",
   "metadata": {
    "execution": {
     "iopub.execute_input": "2023-08-22T22:35:09.204746Z",
     "iopub.status.busy": "2023-08-22T22:35:09.203087Z",
     "iopub.status.idle": "2023-08-22T22:35:09.213337Z",
     "shell.execute_reply": "2023-08-22T22:35:09.211812Z",
     "shell.execute_reply.started": "2023-08-22T22:35:09.204644Z"
    }
   },
   "source": [
    "### André Corrêa, Leonardo Andrade, Pedro Camargo "
   ]
  },
  {
   "cell_type": "markdown",
   "id": "ee3d17cc",
   "metadata": {},
   "source": [
    "Atividade Prática Supervisionada da disciplina de Redes Sociais, em que foi construída uma rede de parasitas e hospedeiros. Antes de começar, iremos dar uma introdução sobre o dataset escolhido, para uma contextualicação melhor do trabalho.\n",
    "\n",
    "\n",
    "DataSet utilizado: https://networks.skewed.de/net/nematode_mammal\n",
    "\n",
    "-------------------------------------------------------------------------------\n"
   ]
  },
  {
   "cell_type": "markdown",
   "id": "302ad1ed",
   "metadata": {},
   "source": [
    "#### Conceito dos Vértices: \n",
    "- Animais.\n",
    "\n",
    "#### Conceito das Arestas:\n",
    "- Uma aresta entre A e B indica que há uma relação de parasitismo entre A e B.\n",
    "\n",
    "#### Operacionalização dos Vértices:\n",
    "- Cada vértice corresponde a uma espécie de hospedeiro ou parasita. Os parasitas observados foram mais de 27.000 espécies de helmintos, já as espécies hospedeiras são diversas variando de mamíferos até peixes. Sendo assim, os helmintos parasitam os hospedeiros. As diferentes espécies foram obtidas dos registros do Museu de História Natural de Londres, conforme citado pelo artigo da bibliografia.\n",
    "\n",
    "#### Operacionalização das Arestas:\n",
    "- Para cada par de vértices, considerou-se que a aresta existe caso haja uma relação de parasitismo entre eles. As ocorrências foram obtidas dos registros do Museu de História Natural de Londres conforme, citado pelo artigo da bibliografia.\n",
    "- -------------------------------------------------------------"
   ]
  },
  {
   "cell_type": "markdown",
   "id": "58d0c0ea-b4a8-4743-94f9-c75839fb4d02",
   "metadata": {},
   "source": [
    "Agora iremos utilizar esse dataset para gerar uma rede de parasitas e hospedeiros, e analisar algumas métricas."
   ]
  },
  {
   "cell_type": "code",
   "execution_count": null,
   "id": "07c8a7ff-b532-4035-9fd9-9e417425c7c7",
   "metadata": {},
   "outputs": [],
   "source": [
    "# Importando as bibliotecas necessárias\n",
    "import graph_tool_extras as gte\n",
    "import netpixi\n",
    "from graph_tool import draw\n",
    "\n",
    "# Definindo o path para o arquivo CSV \n",
    "PATH = \"helminths.csv\"\n",
    "\n",
    "\n",
    "# Lendo o arquivo CSV linha por linha\n",
    "linhas = []\n",
    "with open(PATH, encoding=\"ISO-8859-1\") as file:\n",
    "    cabecalho = file.readline()\n",
    "    \n",
    "    while True:\n",
    "        linha = file.readline()\n",
    "        if linha == \"\":\n",
    "            break\n",
    "        linhas.append(linha)"
   ]
  },
  {
   "cell_type": "code",
   "execution_count": null,
   "id": "891be66e-4803-42ad-b1a4-bfcd213cd402",
   "metadata": {},
   "outputs": [],
   "source": [
    "# Dividindo cada linha em uma lista de vértices\n",
    "l_p = []\n",
    "for i in range(0,len(linhas)):\n",
    "    linha = linhas[i].split(',')\n",
    "    l_p.append([linha[1],linha[2]])\n"
   ]
  },
  {
   "cell_type": "code",
   "execution_count": null,
   "id": "efb49bfe-8750-4bb6-b5da-fcba26245782",
   "metadata": {},
   "outputs": [],
   "source": [
    "# Criando um objeto gráfico\n",
    "g = gte.Graph(directed=False)\n",
    "\n",
    "verts = {}\n",
    "\n",
    "# Adicionando vértices no gráfico criado\n",
    "for i in range(0, len(l_p)):\n",
    "    pre = l_p[i][0]\n",
    "    post = l_p[i][1]\n",
    "\n",
    "    # Se o vértice não existir, adiciona ao dicionário\n",
    "    if pre not in verts:\n",
    "        verts[pre] = True\n",
    "        g.add_vertex_by_id(pre)\n",
    "\n",
    "    # Se o vértice não existir, adiciona ao dicionário\n",
    "    if post not in verts:\n",
    "        verts[post] = True\n",
    "        g.add_vertex_by_id(post)\n",
    "\n",
    "    # Adicionando uma aresta entre os dois vértice\n",
    "    g.add_edge_by_ids(pre, post)\n"
   ]
  },
  {
   "cell_type": "code",
   "execution_count": null,
   "id": "1f33d79e-7c57-417f-8621-4cb8e939d0de",
   "metadata": {},
   "outputs": [],
   "source": [
    "gte.clean(g)"
   ]
  },
  {
   "cell_type": "code",
   "execution_count": null,
   "id": "a811aaad-8bff-431a-8765-451325d1b842",
   "metadata": {},
   "outputs": [],
   "source": [
    "# Criando um layout para o gráfico\n",
    "layout = draw.sfdp_layout(g)\n",
    "\n",
    "# Movendo os vértices para o layout especificado\n",
    "gte.move(g, layout)\n",
    "gte.clean(g)\n"
   ]
  },
  {
   "cell_type": "code",
   "execution_count": null,
   "id": "4e3c631f-7c1e-40bf-92f5-8ab3be90b730",
   "metadata": {},
   "outputs": [],
   "source": [
    "# Salvando o gráfico no arquivo 'parasita.net.gz'\n",
    "gte.save(g, 'parasita.net.gz')"
   ]
  },
  {
   "cell_type": "code",
   "execution_count": null,
   "id": "b11740a1-d4cb-443c-a754-67489d23f259",
   "metadata": {
    "scrolled": true
   },
   "outputs": [],
   "source": [
    "# Renderizando o gráfico usando o NetPixi\n",
    "r = netpixi.render(\"parasita.net.gz\")"
   ]
  },
  {
   "cell_type": "code",
   "execution_count": null,
   "id": "e468c5db-6524-4d23-b996-3bb98bc9c17a",
   "metadata": {},
   "outputs": [],
   "source": [
    "# Definindo as propriedades dos vértices, para deixar o gráfico mais legível e bonito\n",
    "r.vertex_default(\n",
    "    size=1,         \n",
    "    color=0xffff00, \n",
    "    bwidth=2,        \n",
    "    bcolor=0x007700, \n",
    ")"
   ]
  },
  {
   "cell_type": "code",
   "execution_count": null,
   "id": "2f10a0fa-37c8-4508-98c3-e7a305288467",
   "metadata": {},
   "outputs": [],
   "source": []
  }
 ],
 "metadata": {
  "kernelspec": {
   "display_name": "Python 3 (ipykernel)",
   "language": "python",
   "name": "python3"
  },
  "language_info": {
   "codemirror_mode": {
    "name": "ipython",
    "version": 3
   },
   "file_extension": ".py",
   "mimetype": "text/x-python",
   "name": "python",
   "nbconvert_exporter": "python",
   "pygments_lexer": "ipython3",
   "version": "3.11.4"
  }
 },
 "nbformat": 4,
 "nbformat_minor": 5
}
