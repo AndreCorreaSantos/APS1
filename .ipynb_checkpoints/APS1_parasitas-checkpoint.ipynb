{
 "cells": [
  {
   "cell_type": "markdown",
   "id": "2d38c7a2-4abb-480b-94c4-2c7c4dead959",
   "metadata": {},
   "source": [
    "## APS 1 - REDES SOCIAIS"
   ]
  },
  {
   "cell_type": "markdown",
   "id": "4ffaeb71-acbb-4dcb-88e4-f33abc0e4125",
   "metadata": {
    "execution": {
     "iopub.execute_input": "2023-08-22T22:35:09.204746Z",
     "iopub.status.busy": "2023-08-22T22:35:09.203087Z",
     "iopub.status.idle": "2023-08-22T22:35:09.213337Z",
     "shell.execute_reply": "2023-08-22T22:35:09.211812Z",
     "shell.execute_reply.started": "2023-08-22T22:35:09.204644Z"
    }
   },
   "source": [
    "### André Corrêa, Leonardo Andrade, Pedro Camargo "
   ]
  },
  {
   "cell_type": "markdown",
   "id": "ee3d17cc",
   "metadata": {},
   "source": [
    "Atividade Prática Supervisionada da disciplina de Redes Sociais, em que foi construída uma rede de parasitas e hospedeiros. Antes de começar, iremos dar uma introdução sobre o dataset escolhido, para uma contextualicação melhor do trabalho.\n",
    "\n",
    "\n",
    "DataSet utilizado: https://networks.skewed.de/net/nematode_mammal\n",
    "\n",
    "-------------------------------------------------------------------------------\n"
   ]
  },
  {
   "cell_type": "markdown",
   "id": "302ad1ed",
   "metadata": {},
   "source": [
    "#### Conceito dos Vértices: \n",
    "- Animais.\n",
    "\n",
    "#### Conceito das Arestas:\n",
    "- Uma aresta entre A e B indica que há uma relação de parasitismo entre A e B.\n",
    "\n",
    "#### Operacionalização dos Vértices:\n",
    "- Cada vértice corresponde a uma espécie de hospedeiro ou parasita. Os parasitas observados foram mais de 27.000 espécies de helmintos, já as espécies hospedeiras são diversas variando de mamíferos até peixes. Sendo assim, os helmintos parasitam os hospedeiros. As diferentes espécies foram obtidas dos registros do Museu de História Natural de Londres, conforme citado pelo artigo da bibliografia.\n",
    "\n",
    "#### Operacionalização das Arestas:\n",
    "- Para cada par de vértices, considerou-se que a aresta existe caso haja uma relação de parasitismo entre eles. As ocorrências foram obtidas dos registros do Museu de História Natural de Londres conforme, citado pelo artigo da bibliografia.\n",
    "- -------------------------------------------------------------"
   ]
  },
  {
   "cell_type": "markdown",
   "id": "58d0c0ea-b4a8-4743-94f9-c75839fb4d02",
   "metadata": {},
   "source": [
    "Agora iremos utilizar esse dataset para gerar uma rede de parasitas e hospedeiros, e analisar algumas métricas."
   ]
  },
  {
   "cell_type": "code",
   "execution_count": 1,
   "id": "07c8a7ff-b532-4035-9fd9-9e417425c7c7",
   "metadata": {
    "execution": {
     "iopub.execute_input": "2023-08-30T00:03:01.586889Z",
     "iopub.status.busy": "2023-08-30T00:03:01.585974Z",
     "iopub.status.idle": "2023-08-30T00:03:03.732190Z",
     "shell.execute_reply": "2023-08-30T00:03:03.731226Z",
     "shell.execute_reply.started": "2023-08-30T00:03:01.586859Z"
    }
   },
   "outputs": [
    {
     "data": {
      "text/html": [
       "\n",
       "    <script src=\"/static/.hidden/netpixi.min.js\"></script>\n"
      ],
      "text/plain": [
       "<IPython.core.display.HTML object>"
      ]
     },
     "metadata": {},
     "output_type": "display_data"
    }
   ],
   "source": [
    "# Importando as bibliotecas necessárias\n",
    "import graph_tool_extras as gte\n",
    "import netpixi\n",
    "from graph_tool import draw\n",
    "\n",
    "# Definindo o path para o arquivo CSV \n",
    "PATH = \"raw.githubusercontent.com_cjcarlson_brevity_master_Figure 1 Demo Networks_helminths.csv\"\n",
    "\n",
    "\n",
    "# Lendo o arquivo CSV linha por linha\n",
    "linhas = []\n",
    "with open(PATH, encoding=\"ISO-8859-1\") as file:\n",
    "    cabecalho = file.readline()\n",
    "    \n",
    "    while True:\n",
    "        linha = file.readline()\n",
    "        if linha == \"\":\n",
    "            break\n",
    "        linhas.append(linha)"
   ]
  },
  {
   "cell_type": "code",
   "execution_count": 2,
   "id": "891be66e-4803-42ad-b1a4-bfcd213cd402",
   "metadata": {
    "execution": {
     "iopub.execute_input": "2023-08-30T00:03:03.734224Z",
     "iopub.status.busy": "2023-08-30T00:03:03.733676Z",
     "iopub.status.idle": "2023-08-30T00:03:04.030386Z",
     "shell.execute_reply": "2023-08-30T00:03:04.029409Z",
     "shell.execute_reply.started": "2023-08-30T00:03:03.734202Z"
    }
   },
   "outputs": [],
   "source": [
    "# Dividindo cada linha em uma lista de vértices\n",
    "l_p = []\n",
    "for i in range(0,len(linhas)):\n",
    "    linha = linhas[i].split(',')\n",
    "    l_p.append([linha[1],linha[2]])\n"
   ]
  },
  {
   "cell_type": "code",
   "execution_count": 3,
   "id": "efb49bfe-8750-4bb6-b5da-fcba26245782",
   "metadata": {
    "execution": {
     "iopub.execute_input": "2023-08-30T00:03:04.032239Z",
     "iopub.status.busy": "2023-08-30T00:03:04.031575Z",
     "iopub.status.idle": "2023-08-30T00:03:06.074165Z",
     "shell.execute_reply": "2023-08-30T00:03:06.073193Z",
     "shell.execute_reply.started": "2023-08-30T00:03:04.032213Z"
    }
   },
   "outputs": [],
   "source": [
    "# Criando um objeto gráfico\n",
    "g = gte.Graph(directed=False)\n",
    "\n",
    "verts = {}\n",
    "\n",
    "# Adicionando vértices no gráfico criado\n",
    "for i in range(0, len(l_p)):\n",
    "    pre = l_p[i][0]\n",
    "    post = l_p[i][1]\n",
    "\n",
    "    # Se o vértice não existir, adiciona ao dicionário\n",
    "    if pre not in verts:\n",
    "        verts[pre] = True\n",
    "        g.add_vertex_by_id(pre)\n",
    "\n",
    "    # Se o vértice não existir, adiciona ao dicionário\n",
    "    if post not in verts:\n",
    "        verts[post] = True\n",
    "        g.add_vertex_by_id(post)\n",
    "\n",
    "    # Adicionando uma aresta entre os dois vértices\n",
    "    g.add_edge_by_ids(pre, post)\n"
   ]
  },
  {
   "cell_type": "code",
   "execution_count": 4,
   "id": "1f33d79e-7c57-417f-8621-4cb8e939d0de",
   "metadata": {
    "execution": {
     "iopub.execute_input": "2023-08-30T00:03:06.075495Z",
     "iopub.status.busy": "2023-08-30T00:03:06.075153Z",
     "iopub.status.idle": "2023-08-30T00:03:06.215131Z",
     "shell.execute_reply": "2023-08-30T00:03:06.214132Z",
     "shell.execute_reply.started": "2023-08-30T00:03:06.075439Z"
    }
   },
   "outputs": [
    {
     "data": {
      "text/plain": [
       "<Graph object, undirected, with 26195 vertices and 140432 edges, 2 internal vertex properties, at 0x7fd0477d40d0>"
      ]
     },
     "execution_count": 4,
     "metadata": {},
     "output_type": "execute_result"
    }
   ],
   "source": [
    "gte.clean(g)"
   ]
  },
  {
   "cell_type": "code",
   "execution_count": 5,
   "id": "a811aaad-8bff-431a-8765-451325d1b842",
   "metadata": {
    "execution": {
     "iopub.execute_input": "2023-08-30T00:03:06.217291Z",
     "iopub.status.busy": "2023-08-30T00:03:06.216777Z",
     "iopub.status.idle": "2023-08-30T00:05:05.644759Z",
     "shell.execute_reply": "2023-08-30T00:05:05.643833Z",
     "shell.execute_reply.started": "2023-08-30T00:03:06.217259Z"
    }
   },
   "outputs": [
    {
     "data": {
      "text/plain": [
       "<Graph object, undirected, with 26195 vertices and 140432 edges, 4 internal vertex properties, at 0x7fd047b65450>"
      ]
     },
     "execution_count": 5,
     "metadata": {},
     "output_type": "execute_result"
    }
   ],
   "source": [
    "# Criando um layout para o gráfico\n",
    "layout = draw.sfdp_layout(g)\n",
    "\n",
    "# Movendo os vértices para o layout especificado\n",
    "gte.move(g, layout)\n",
    "gte.clean(g)\n"
   ]
  },
  {
   "cell_type": "code",
   "execution_count": 6,
   "id": "4e3c631f-7c1e-40bf-92f5-8ab3be90b730",
   "metadata": {
    "execution": {
     "iopub.execute_input": "2023-08-30T00:05:05.646414Z",
     "iopub.status.busy": "2023-08-30T00:05:05.645784Z",
     "iopub.status.idle": "2023-08-30T00:05:14.589686Z",
     "shell.execute_reply": "2023-08-30T00:05:14.588717Z",
     "shell.execute_reply.started": "2023-08-30T00:05:05.646391Z"
    }
   },
   "outputs": [],
   "source": [
    "# Salvando o gráfico no arquivo 'parasita.net.gz'\n",
    "gte.save(g, 'parasita.net.gz')"
   ]
  },
  {
   "cell_type": "code",
   "execution_count": 7,
   "id": "b11740a1-d4cb-443c-a754-67489d23f259",
   "metadata": {
    "execution": {
     "iopub.execute_input": "2023-08-30T00:05:14.591454Z",
     "iopub.status.busy": "2023-08-30T00:05:14.590795Z",
     "iopub.status.idle": "2023-08-30T00:05:14.599806Z",
     "shell.execute_reply": "2023-08-30T00:05:14.598812Z",
     "shell.execute_reply.started": "2023-08-30T00:05:14.591428Z"
    },
    "scrolled": true
   },
   "outputs": [
    {
     "data": {
      "text/html": [
       "\n",
       "        <div id=\"efURB6oz5pPfjpqF3AEq7r\"></div>\n",
       "        <script>netpixi.render('efURB6oz5pPfjpqF3AEq7r', '/static/__shared__/aps1/parasita.net.gz', 1.7777777777777777, true, true, false, true);</script>\n",
       "    "
      ],
      "text/plain": [
       "<IPython.core.display.HTML object>"
      ]
     },
     "metadata": {},
     "output_type": "display_data"
    }
   ],
   "source": [
    "# Renderizando o gráfico usando o NetPixi\n",
    "r = netpixi.render(\"parasita.net.gz\",infinite=True)"
   ]
  },
  {
   "cell_type": "code",
   "execution_count": 10,
   "id": "e468c5db-6524-4d23-b996-3bb98bc9c17a",
   "metadata": {
    "execution": {
     "iopub.execute_input": "2023-08-30T00:05:22.072685Z",
     "iopub.status.busy": "2023-08-30T00:05:22.071788Z",
     "iopub.status.idle": "2023-08-30T00:05:22.078715Z",
     "shell.execute_reply": "2023-08-30T00:05:22.077870Z",
     "shell.execute_reply.started": "2023-08-30T00:05:22.072657Z"
    }
   },
   "outputs": [
    {
     "data": {
      "text/html": [
       "\n",
       "        <div id=\"k2hTUwh4EARmB5crDcWpen\"></div>\n",
       "        <script>netpixi.call('k2hTUwh4EARmB5crDcWpen', 'efURB6oz5pPfjpqF3AEq7r', 'changeGraph', 'eyJ0eXBlIjogInNldHRpbmdzIiwgInByb3BzIjogeyJ2ZXJ0ZXgiOiB7InNpemUiOiAxLCAiY29sb3IiOiAxNjc3Njk2MCwgImJ3aWR0aCI6IDEsICJiY29sb3IiOiAzMDQ2NH19fQo=');</script>\n",
       "    "
      ],
      "text/plain": [
       "<IPython.core.display.HTML object>"
      ]
     },
     "metadata": {},
     "output_type": "display_data"
    }
   ],
   "source": [
    "# Definindo as propriedades dos vértices, para deixar o gráfico mais legível e bonito\n",
    "r.vertex_default(\n",
    "    size=1,         \n",
    "    color=0xffff00, \n",
    "    bwidth=1,        \n",
    "    bcolor=0x007700, \n",
    ")"
   ]
  },
  {
   "cell_type": "code",
   "execution_count": 11,
   "id": "2f10a0fa-37c8-4508-98c3-e7a305288467",
   "metadata": {
    "execution": {
     "iopub.execute_input": "2023-08-30T00:05:26.713503Z",
     "iopub.status.busy": "2023-08-30T00:05:26.712736Z",
     "iopub.status.idle": "2023-08-30T00:05:26.719633Z",
     "shell.execute_reply": "2023-08-30T00:05:26.718611Z",
     "shell.execute_reply.started": "2023-08-30T00:05:26.713459Z"
    }
   },
   "outputs": [
    {
     "data": {
      "text/html": [
       "\n",
       "        <div id=\"VRunSQtxJYpyoAq6o5PnPQ\"></div>\n",
       "        <script>netpixi.call('VRunSQtxJYpyoAq6o5PnPQ', 'efURB6oz5pPfjpqF3AEq7r', 'changeGraph', 'eyJ0eXBlIjogInNldHRpbmdzIiwgInByb3BzIjogeyJlZGdlIjogeyJ3aWR0aCI6IDEsICJjb2xvciI6IDc4Mjk1MDMsICJjdXJ2ZTEiOiAxLCAiY3VydmUyIjogMX19fQo=');</script>\n",
       "    "
      ],
      "text/plain": [
       "<IPython.core.display.HTML object>"
      ]
     },
     "metadata": {},
     "output_type": "display_data"
    }
   ],
   "source": [
    "r.edge_default(\n",
    "    width=1,        # espessura         (padrão: 2)\n",
    "    color=0x7777ff, # cor               (padrão: 0xffffff)\n",
    "    curve1=1,       # curvatura inicial (padrão: 0)\n",
    "    curve2=1,       # curvatura final   (padrão: 0)\n",
    ")"
   ]
  }
 ],
 "metadata": {
  "kernelspec": {
   "display_name": "Python 3 (ipykernel)",
   "language": "python",
   "name": "python3"
  },
  "language_info": {
   "codemirror_mode": {
    "name": "ipython",
    "version": 3
   },
   "file_extension": ".py",
   "mimetype": "text/x-python",
   "name": "python",
   "nbconvert_exporter": "python",
   "pygments_lexer": "ipython3",
   "version": "3.11.4"
  }
 },
 "nbformat": 4,
 "nbformat_minor": 5
}
