{
 "cells": [
  {
   "cell_type": "markdown",
   "id": "2d38c7a2-4abb-480b-94c4-2c7c4dead959",
   "metadata": {},
   "source": [
    "## APS 1 - REDES SOCIAIS"
   ]
  },
  {
   "cell_type": "markdown",
   "id": "4ffaeb71-acbb-4dcb-88e4-f33abc0e4125",
   "metadata": {
    "execution": {
     "iopub.execute_input": "2023-08-22T22:35:09.204746Z",
     "iopub.status.busy": "2023-08-22T22:35:09.203087Z",
     "iopub.status.idle": "2023-08-22T22:35:09.213337Z",
     "shell.execute_reply": "2023-08-22T22:35:09.211812Z",
     "shell.execute_reply.started": "2023-08-22T22:35:09.204644Z"
    }
   },
   "source": [
    "### André Corrêa, Leonardo Andrade, Pedro Camargo "
   ]
  },
  {
   "cell_type": "markdown",
   "id": "ee3d17cc",
   "metadata": {},
   "source": [
    "Atividade Prática Supervisionada da disciplina de Redes Sociais, em que foi construída uma rede de parasitas e hospedeiros. Antes de começar, iremos dar uma introdução sobre o dataset escolhido, para uma contextualicação melhor do trabalho.\n",
    "\n",
    "\n",
    "DataSet utilizado: https://networks.skewed.de/net/nematode_mammal\n",
    "\n",
    "-------------------------------------------------------------------------------\n"
   ]
  },
  {
   "cell_type": "markdown",
   "id": "302ad1ed",
   "metadata": {},
   "source": [
    "#### Conceito dos Vértices: \n",
    "- Animais.\n",
    "\n",
    "#### Conceito das Arestas:\n",
    "- Uma aresta entre A e B indica que há uma relação de parasitismo entre A e B.\n",
    "\n",
    "#### Operacionalização dos Vértices:\n",
    "- Cada vértice corresponde a uma espécie de hospedeiro ou parasita. Os parasitas observados foram mais de 27.000 espécies de helmintos, já as espécies hospedeiras são diversas variando de mamíferos até peixes. Sendo assim, os helmintos parasitam os hospedeiros. As diferentes espécies foram obtidas dos registros do Museu de História Natural de Londres, conforme citado pelo artigo da bibliografia.\n",
    "\n",
    "#### Operacionalização das Arestas:\n",
    "- Para cada par de vértices, considerou-se que a aresta existe caso haja uma relação de parasitismo entre eles. As ocorrências foram obtidas dos registros do Museu de História Natural de Londres conforme, citado pelo artigo da bibliografia.\n",
    "- -------------------------------------------------------------"
   ]
  },
  {
   "cell_type": "markdown",
   "id": "58d0c0ea-b4a8-4743-94f9-c75839fb4d02",
   "metadata": {},
   "source": [
    "Agora iremos utilizar esse dataset para gerar uma rede de parasitas e hospedeiros, e analisar algumas métricas."
   ]
  },
  {
   "cell_type": "code",
   "execution_count": 1,
   "id": "07c8a7ff-b532-4035-9fd9-9e417425c7c7",
   "metadata": {
    "execution": {
     "iopub.execute_input": "2023-08-27T22:16:05.644102Z",
     "iopub.status.busy": "2023-08-27T22:16:05.643487Z",
     "iopub.status.idle": "2023-08-27T22:16:07.287345Z",
     "shell.execute_reply": "2023-08-27T22:16:07.286409Z",
     "shell.execute_reply.started": "2023-08-27T22:16:05.644076Z"
    }
   },
   "outputs": [
    {
     "data": {
      "text/html": [
       "\n",
       "    <script src=\"/static/.hidden/netpixi.min.js\"></script>\n"
      ],
      "text/plain": [
       "<IPython.core.display.HTML object>"
      ]
     },
     "metadata": {},
     "output_type": "display_data"
    }
   ],
   "source": [
    "# Importando as bibliotecas necessárias\n",
    "import graph_tool_extras as gte\n",
    "import netpixi\n",
    "from graph_tool import draw\n",
    "\n",
    "# Definindo o path para o arquivo CSV \n",
    "PATH = \"helminths.csv\"\n",
    "\n",
    "\n",
    "# Lendo o arquivo CSV linha por linha\n",
    "linhas = []\n",
    "with open(PATH, encoding=\"ISO-8859-1\") as file:\n",
    "    cabecalho = file.readline()\n",
    "    \n",
    "    while True:\n",
    "        linha = file.readline()\n",
    "        if linha == \"\":\n",
    "            break\n",
    "        linhas.append(linha)"
   ]
  },
  {
   "cell_type": "code",
   "execution_count": 2,
   "id": "891be66e-4803-42ad-b1a4-bfcd213cd402",
   "metadata": {
    "execution": {
     "iopub.execute_input": "2023-08-27T22:16:07.289876Z",
     "iopub.status.busy": "2023-08-27T22:16:07.289238Z",
     "iopub.status.idle": "2023-08-27T22:16:07.603977Z",
     "shell.execute_reply": "2023-08-27T22:16:07.603036Z",
     "shell.execute_reply.started": "2023-08-27T22:16:07.289852Z"
    }
   },
   "outputs": [],
   "source": [
    "# Dividindo cada linha em uma lista de vértices\n",
    "l_p = []\n",
    "for i in range(0,len(linhas)):\n",
    "    linha = linhas[i].split(',')\n",
    "    l_p.append([linha[1],linha[2]])\n"
   ]
  },
  {
   "cell_type": "code",
   "execution_count": 3,
   "id": "efb49bfe-8750-4bb6-b5da-fcba26245782",
   "metadata": {
    "execution": {
     "iopub.execute_input": "2023-08-27T22:16:07.605206Z",
     "iopub.status.busy": "2023-08-27T22:16:07.604961Z",
     "iopub.status.idle": "2023-08-27T22:16:09.639806Z",
     "shell.execute_reply": "2023-08-27T22:16:09.638532Z",
     "shell.execute_reply.started": "2023-08-27T22:16:07.605185Z"
    }
   },
   "outputs": [],
   "source": [
    "# Criando um objeto gráfico\n",
    "g = gte.Graph(directed=False)\n",
    "\n",
    "verts = {}\n",
    "\n",
    "# Adicionando vértices no gráfico criado\n",
    "for i in range(0, len(l_p)):\n",
    "    pre = l_p[i][0]\n",
    "    post = l_p[i][1]\n",
    "\n",
    "    # Se o vértice não existir, adiciona ao dicionário\n",
    "    if pre not in verts:\n",
    "        verts[pre] = True\n",
    "        g.add_vertex_by_id(pre)\n",
    "\n",
    "    # Se o vértice não existir, adiciona ao dicionário\n",
    "    if post not in verts:\n",
    "        verts[post] = True\n",
    "        g.add_vertex_by_id(post)\n",
    "\n",
    "    # Adicionando uma aresta entre os dois vértices\n",
    "    g.add_edge_by_ids(pre, post)\n"
   ]
  },
  {
   "cell_type": "code",
   "execution_count": 4,
   "id": "1f33d79e-7c57-417f-8621-4cb8e939d0de",
   "metadata": {
    "execution": {
     "iopub.execute_input": "2023-08-27T22:16:09.641143Z",
     "iopub.status.busy": "2023-08-27T22:16:09.640880Z",
     "iopub.status.idle": "2023-08-27T22:16:09.775730Z",
     "shell.execute_reply": "2023-08-27T22:16:09.774712Z",
     "shell.execute_reply.started": "2023-08-27T22:16:09.641118Z"
    }
   },
   "outputs": [
    {
     "data": {
      "text/plain": [
       "<Graph object, undirected, with 26195 vertices and 140432 edges, 2 internal vertex properties, at 0x7f5131c16290>"
      ]
     },
     "execution_count": 4,
     "metadata": {},
     "output_type": "execute_result"
    }
   ],
   "source": [
    "gte.clean(g)"
   ]
  },
  {
   "cell_type": "code",
   "execution_count": 5,
   "id": "a811aaad-8bff-431a-8765-451325d1b842",
   "metadata": {
    "execution": {
     "iopub.execute_input": "2023-08-27T22:16:09.778406Z",
     "iopub.status.busy": "2023-08-27T22:16:09.778002Z",
     "iopub.status.idle": "2023-08-27T22:18:01.522588Z",
     "shell.execute_reply": "2023-08-27T22:18:01.521717Z",
     "shell.execute_reply.started": "2023-08-27T22:16:09.778384Z"
    }
   },
   "outputs": [
    {
     "data": {
      "text/plain": [
       "<Graph object, undirected, with 26195 vertices and 140432 edges, 4 internal vertex properties, at 0x7f51317a74d0>"
      ]
     },
     "execution_count": 5,
     "metadata": {},
     "output_type": "execute_result"
    }
   ],
   "source": [
    "# Criando um layout para o gráfico\n",
    "layout = draw.sfdp_layout(g)\n",
    "\n",
    "# Movendo os vértices para o layout especificado\n",
    "gte.move(g, layout)\n",
    "gte.clean(g)\n"
   ]
  },
  {
   "cell_type": "code",
   "execution_count": 6,
   "id": "4e3c631f-7c1e-40bf-92f5-8ab3be90b730",
   "metadata": {
    "execution": {
     "iopub.execute_input": "2023-08-27T22:18:01.524392Z",
     "iopub.status.busy": "2023-08-27T22:18:01.523640Z",
     "iopub.status.idle": "2023-08-27T22:18:10.274326Z",
     "shell.execute_reply": "2023-08-27T22:18:10.273446Z",
     "shell.execute_reply.started": "2023-08-27T22:18:01.524370Z"
    }
   },
   "outputs": [],
   "source": [
    "# Salvando o gráfico no arquivo 'parasita.net.gz'\n",
    "gte.save(g, 'parasita.net.gz')"
   ]
  },
  {
   "cell_type": "code",
   "execution_count": 12,
   "id": "b11740a1-d4cb-443c-a754-67489d23f259",
   "metadata": {
    "execution": {
     "iopub.execute_input": "2023-08-27T22:30:15.682040Z",
     "iopub.status.busy": "2023-08-27T22:30:15.681159Z",
     "iopub.status.idle": "2023-08-27T22:30:15.688655Z",
     "shell.execute_reply": "2023-08-27T22:30:15.687807Z",
     "shell.execute_reply.started": "2023-08-27T22:30:15.682015Z"
    },
    "scrolled": true
   },
   "outputs": [
    {
     "data": {
      "text/html": [
       "\n",
       "        <div id=\"kfPQitPU2JyeEdgv3dp9NU\"></div>\n",
       "        <script>netpixi.render('kfPQitPU2JyeEdgv3dp9NU', '/static/__shared__/aps1/parasita.net.gz', 1.7777777777777777, true, true, false, true);</script>\n",
       "    "
      ],
      "text/plain": [
       "<IPython.core.display.HTML object>"
      ]
     },
     "metadata": {},
     "output_type": "display_data"
    }
   ],
   "source": [
    "# Renderizando o gráfico usando o NetPixi\n",
    "r = netpixi.render(\"parasita.net.gz\",infinite=True)"
   ]
  },
  {
   "cell_type": "code",
   "execution_count": 11,
   "id": "e468c5db-6524-4d23-b996-3bb98bc9c17a",
   "metadata": {
    "execution": {
     "iopub.execute_input": "2023-08-27T22:29:20.177308Z",
     "iopub.status.busy": "2023-08-27T22:29:20.176423Z",
     "iopub.status.idle": "2023-08-27T22:29:20.183543Z",
     "shell.execute_reply": "2023-08-27T22:29:20.182500Z",
     "shell.execute_reply.started": "2023-08-27T22:29:20.177281Z"
    }
   },
   "outputs": [
    {
     "data": {
      "text/html": [
       "\n",
       "        <div id=\"i4zdcx4fFeHsY3ryieu8jP\"></div>\n",
       "        <script>netpixi.call('i4zdcx4fFeHsY3ryieu8jP', 'bWLb3VXBckX8FQH8QQAvQd', 'changeGraph', 'eyJ0eXBlIjogInNldHRpbmdzIiwgInByb3BzIjogeyJ2ZXJ0ZXgiOiB7InNpemUiOiAxLCAiY29sb3IiOiAxNjc3Njk2MCwgImJ3aWR0aCI6IDEsICJiY29sb3IiOiAzMDQ2NH19fQo=');</script>\n",
       "    "
      ],
      "text/plain": [
       "<IPython.core.display.HTML object>"
      ]
     },
     "metadata": {},
     "output_type": "display_data"
    }
   ],
   "source": [
    "# Definindo as propriedades dos vértices, para deixar o gráfico mais legível e bonito\n",
    "r.vertex_default(\n",
    "    size=1,         \n",
    "    color=0xffff00, \n",
    "    bwidth=1,        \n",
    "    bcolor=0x007700, \n",
    ")"
   ]
  },
  {
   "cell_type": "code",
   "execution_count": 10,
   "id": "2f10a0fa-37c8-4508-98c3-e7a305288467",
   "metadata": {
    "execution": {
     "iopub.execute_input": "2023-08-27T22:27:59.516644Z",
     "iopub.status.busy": "2023-08-27T22:27:59.515527Z",
     "iopub.status.idle": "2023-08-27T22:27:59.524617Z",
     "shell.execute_reply": "2023-08-27T22:27:59.523572Z",
     "shell.execute_reply.started": "2023-08-27T22:27:59.516615Z"
    }
   },
   "outputs": [
    {
     "data": {
      "text/html": [
       "\n",
       "        <div id=\"6GoJPn6FFxurtRXpqUYmNA\"></div>\n",
       "        <script>netpixi.call('6GoJPn6FFxurtRXpqUYmNA', 'bWLb3VXBckX8FQH8QQAvQd', 'changeGraph', 'eyJ0eXBlIjogInNldHRpbmdzIiwgInByb3BzIjogeyJlZGdlIjogeyJ3aWR0aCI6IDQsICJjb2xvciI6IDc4Mjk1MDMsICJjdXJ2ZTEiOiAxLCAiY3VydmUyIjogMX19fQo=');</script>\n",
       "    "
      ],
      "text/plain": [
       "<IPython.core.display.HTML object>"
      ]
     },
     "metadata": {},
     "output_type": "display_data"
    }
   ],
   "source": [
    "r.edge_default(\n",
    "    width=1,        # espessura         (padrão: 2)\n",
    "    color=0x7777ff, # cor               (padrão: 0xffffff)\n",
    "    curve1=1,       # curvatura inicial (padrão: 0)\n",
    "    curve2=1,       # curvatura final   (padrão: 0)\n",
    ")"
   ]
  }
 ],
 "metadata": {
  "kernelspec": {
   "display_name": "Python 3 (ipykernel)",
   "language": "python",
   "name": "python3"
  },
  "language_info": {
   "codemirror_mode": {
    "name": "ipython",
    "version": 3
   },
   "file_extension": ".py",
   "mimetype": "text/x-python",
   "name": "python",
   "nbconvert_exporter": "python",
   "pygments_lexer": "ipython3",
   "version": "3.11.4"
  }
 },
 "nbformat": 4,
 "nbformat_minor": 5
}
